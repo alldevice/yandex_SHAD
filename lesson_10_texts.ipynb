{
 "cells": [
  {
   "cell_type": "code",
   "execution_count": 2,
   "metadata": {},
   "outputs": [
    {
     "name": "stdout",
     "output_type": "stream",
     "text": [
      "OK\n"
     ]
    }
   ],
   "source": [
    "import pandas as pd\n",
    "import numpy as np\n",
    "from sklearn.feature_extraction.text import TfidfVectorizer\n",
    "from sklearn.feature_extraction import DictVectorizer\n",
    "from scipy.sparse import hstack\n",
    "from sklearn.linear_model import Ridge\n",
    "\n",
    "print('OK')"
   ]
  },
  {
   "cell_type": "code",
   "execution_count": 3,
   "metadata": {},
   "outputs": [
    {
     "name": "stdout",
     "output_type": "stream",
     "text": [
      "OK\n"
     ]
    }
   ],
   "source": [
    "data_train = pd.read_csv('salary-train.csv') #[0:30]\n",
    "data_test = pd.read_csv('salary-test-mini.csv')\n",
    "# Preparing data train. Convert all letters to lower:\n",
    "#[x.lower() for x in [\"A\",\"B\",\"C\"]] #\n",
    "#list(map(lambda x:x.lower(),[\"A\",\"B\",\"C\"])) # slowly\n",
    "#data_train['FullDescription'] = [x.lower() for x in data_train.iloc[:,0]]\n",
    "#data_train['LocationNormalized'] = [x.lower() for x in data_train.iloc[:,1]]\n",
    "#data_train['ContractTime'] = [x.lower() for x in data_train.iloc[:,2]]      ?????\n",
    "#data_train['FullDescription'] = data_train['FullDescription'].replace('[^a-zA-Z0-9]', ' ', regex = True)\n",
    "\n",
    "# Replace None to NaN:\n",
    "data_train['LocationNormalized'].fillna('nan', inplace=True)\n",
    "data_train['ContractTime'].fillna('nan', inplace=True)\n",
    "y_train = data_train['SalaryNormalized']\n",
    "\n",
    "#print(data_train[['LocationNormalized', 'ContractTime']].to_dict('records'))\n",
    "#print(X_train_categ)\n",
    "\n",
    "# For 'ContractTime' and 'LocationNormalized'\n",
    "enc = DictVectorizer(sparse=False)\n",
    "X_train = data_train['FullDescription']\n",
    "X_train = X_train.str.lower()\n",
    "X_train = X_train.replace('[^a-zA-Z0-9]', ' ', regex = True)\n",
    "X_train_categ = enc.fit_transform(data_train[['LocationNormalized', 'ContractTime']].to_dict('records'))\n",
    "\n",
    "# For 'FullDescription'\n",
    "vectorizer = TfidfVectorizer(min_df=5) # !!!!!!!!!!!!!!!!!!!!!! 5\n",
    "X_train_1 = vectorizer.fit_transform(X_train)\n",
    "#vectorizer.get_feature_names()\n",
    "#X_train_1.toarray()\n",
    "X_train_M = hstack([X_train_categ,X_train_1]) # For merge two arrays feautures (sparse)\n",
    "\n",
    "\n",
    "# Prepare test data:\n",
    "X_test = data_test['FullDescription']\n",
    "X_test = X_test.str.lower()\n",
    "X_test = X_test.replace('[^a-zA-Z0-9]', ' ', regex = True)\n",
    "X_test_categ = enc.transform(data_test[['LocationNormalized', 'ContractTime']].to_dict('records'))\n",
    "X_test_1 = vectorizer.transform(X_test)\n",
    "X_test_M = hstack([X_test_categ,X_test_1])\n",
    "\n",
    "print('OK')"
   ]
  },
  {
   "cell_type": "code",
   "execution_count": 4,
   "metadata": {},
   "outputs": [
    {
     "name": "stdout",
     "output_type": "stream",
     "text": [
      "[56555.62 37188.32]\n"
     ]
    }
   ],
   "source": [
    "clf = Ridge(alpha=1.0, random_state=241)\n",
    "clf.fit(X_train_M,y_train)\n",
    "pred = clf.predict(X_test_M)\n",
    "#clf.coef_\n",
    "print(np.around(pred, decimals=2))\n",
    "f= open(\"answers_10/1.txt\",\"w+\")\n",
    "f.write(\" \".join(str(x) for x in np.around(pred, decimals=2)))\n",
    "f.close()\n"
   ]
  }
 ],
 "metadata": {
  "kernelspec": {
   "display_name": "Python 3",
   "language": "python",
   "name": "python3"
  },
  "language_info": {
   "codemirror_mode": {
    "name": "ipython",
    "version": 3
   },
   "file_extension": ".py",
   "mimetype": "text/x-python",
   "name": "python",
   "nbconvert_exporter": "python",
   "pygments_lexer": "ipython3",
   "version": "3.5.2"
  },
  "varInspector": {
   "cols": {
    "lenName": 16,
    "lenType": 16,
    "lenVar": 40
   },
   "kernels_config": {
    "python": {
     "delete_cmd_postfix": "",
     "delete_cmd_prefix": "del ",
     "library": "var_list.py",
     "varRefreshCmd": "print(var_dic_list())"
    },
    "r": {
     "delete_cmd_postfix": ") ",
     "delete_cmd_prefix": "rm(",
     "library": "var_list.r",
     "varRefreshCmd": "cat(var_dic_list()) "
    }
   },
   "position": {
    "height": "626.6px",
    "left": "1145.6px",
    "right": "20px",
    "top": "50px",
    "width": "374.8px"
   },
   "types_to_exclude": [
    "module",
    "function",
    "builtin_function_or_method",
    "instance",
    "_Feature"
   ],
   "window_display": false
  }
 },
 "nbformat": 4,
 "nbformat_minor": 2
}
