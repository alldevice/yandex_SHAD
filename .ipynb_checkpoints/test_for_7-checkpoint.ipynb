{
 "cells": [
  {
   "cell_type": "code",
   "execution_count": 126,
   "metadata": {
    "scrolled": false
   },
   "outputs": [
    {
     "name": "stdout",
     "output_type": "stream",
     "text": [
      "OK\n"
     ]
    }
   ],
   "source": [
    "import pandas as pd\n",
    "import numpy as np\n",
    "from sklearn.feature_extraction.text import TfidfVectorizer\n",
    "from sklearn import datasets\n",
    "from sklearn.svm import SVC\n",
    "from sklearn import svm\n",
    "from sklearn.model_selection import GridSearchCV\n",
    "from sklearn.model_selection import KFold\n",
    "import matplotlib.pyplot as plt\n",
    "print('OK')"
   ]
  },
  {
   "cell_type": "code",
   "execution_count": 127,
   "metadata": {
    "scrolled": false
   },
   "outputs": [
    {
     "name": "stdout",
     "output_type": "stream",
     "text": [
      "OK\n"
     ]
    }
   ],
   "source": [
    "newsgroups = datasets.fetch_20newsgroups(\n",
    "                    subset='all', \n",
    "                    categories=['alt.atheism', 'sci.space']\n",
    "             )\n",
    "print('OK')"
   ]
  },
  {
   "cell_type": "code",
   "execution_count": 132,
   "metadata": {
    "scrolled": false
   },
   "outputs": [
    {
     "name": "stdout",
     "output_type": "stream",
     "text": [
      "OK\n"
     ]
    }
   ],
   "source": [
    "vectorizer = TfidfVectorizer()\n",
    "X = vectorizer.fit_transform(newsgroups.data)\n",
    "#z = vectorizer.fit_transform(np.array(newsgroups.data))\n",
    "#samples = z.toarray() # value Tf-idf-weighted document-term matrix\n",
    "y = newsgroups.target\n",
    "#x = vectorizer.idf_ # The inverse document frequency (IDF) vector; only defined if use_idf is True\n",
    "#print(x[0])\n",
    "#print(z.toarray())\n",
    "#clf.fit(newsgroups.data,newsgroups.target)\n",
    "print('OK')"
   ]
  },
  {
   "cell_type": "code",
   "execution_count": 155,
   "metadata": {
    "scrolled": true
   },
   "outputs": [
    {
     "name": "stdout",
     "output_type": "stream",
     "text": [
      "OK\n"
     ]
    }
   ],
   "source": [
    "grid = {'C': np.power(10.0, np.arange(-5, 6))}\n",
    "cv = KFold(n_splits=5, shuffle=True, random_state=241)\n",
    "clf = SVC(kernel='linear', random_state=241)\n",
    "gs = GridSearchCV(clf, grid, scoring='accuracy', cv=cv, return_train_score=True)\n",
    "#gs = GridSearchCV(clf, grid, scoring='accuracy', cv=cv)\n",
    "gs.fit(X,y)\n",
    "print('OK')"
   ]
  },
  {
   "cell_type": "code",
   "execution_count": 156,
   "metadata": {},
   "outputs": [
    {
     "name": "stdout",
     "output_type": "stream",
     "text": [
      "0.9932810750279956\n",
      "1.0\n"
     ]
    }
   ],
   "source": [
    "# To define optimal parameter 'C'\n",
    "#print(gs.refit_time_)\n",
    "cv_results = pd.DataFrame(gs.cv_results_) # http://qaru.site/questions/16902941/what-is-the-alternative-function-for-meanvalidationscore-in-gridcvresults\n",
    "c_o1 = np.max(cv_results.mean_test_score) # max value score\n",
    "print(c_o1)\n",
    "dd = list(cv_results.mean_test_score).index(c_o1) # first index with optimal value 'C' (max score)\n",
    "C_opt = grid.get('C')[dd] # optimal value 'C' (max score)\n",
    "print(C_opt)\n",
    "#list(cv_results.columns.values) # columns names\n",
    "#cv_results\n",
    "#print('OK')"
   ]
  },
  {
   "cell_type": "code",
   "execution_count": 157,
   "metadata": {},
   "outputs": [
    {
     "data": {
      "image/png": "[encoded data removed]",
      "text/plain": [
       "<Figure size 432x288 with 1 Axes>"
      ]
     },
     "metadata": {
      "needs_background": "light"
     },
     "output_type": "display_data"
    },
    {
     "name": "stdout",
     "output_type": "stream",
     "text": [
      "OK\n"
     ]
    }
   ],
   "source": [
    "# Plotting Validation Curves\n",
    "plt.title(\"Validation Curve with SVM\")\n",
    "plt.xlabel(\" C \")\n",
    "plt.ylabel(\"Score\")\n",
    "plt.ylim(0.0, 1.1)\n",
    "lw = 2\n",
    "plt.semilogx(cv_results.param_C, cv_results.mean_train_score, label=\"Training score\",\n",
    "             color=\"darkorange\", lw=lw)\n",
    "plt.semilogx(cv_results.param_C, cv_results.mean_test_score, label=\"Cross-validation score\",\n",
    "             color=\"navy\", lw=lw)\n",
    "plt.legend(loc=\"best\")\n",
    "plt.show()\n",
    "\n",
    "#plt.plot(cv_results.param_C, cv_results.mean_test_score)\n",
    "#print(cv_results.param_C)\n",
    "#print(cv_results.mean_test_score)\n",
    "print('OK')"
   ]
  },
  {
   "cell_type": "code",
   "execution_count": 138,
   "metadata": {
    "scrolled": true
   },
   "outputs": [
    {
     "name": "stdout",
     "output_type": "stream",
     "text": [
      "OK\n"
     ]
    }
   ],
   "source": [
    "# train all dataset\n",
    "C_opt = 1.0\n",
    "clf2 = SVC(C=C_opt, gamma='auto', random_state=241, kernel='linear')\n",
    "clf2.fit(X,y)\n",
    "print('OK')"
   ]
  },
  {
   "cell_type": "code",
   "execution_count": 151,
   "metadata": {},
   "outputs": [
    {
     "name": "stdout",
     "output_type": "stream",
     "text": [
      "Int64Index([24019, 12871, 5088, 5093, 17802, 23673, 21850, 5776, 15606, 22936], dtype='int64')\n",
      "['atheism', 'atheists', 'bible', 'god', 'keith', 'moon', 'religion', 'sci', 'sky', 'space']\n"
     ]
    }
   ],
   "source": [
    "# finish\n",
    "coef=clf2.coef_\n",
    "q=pd.DataFrame(coef.toarray()).transpose()\n",
    "top10=abs(q).sort_values([0], ascending=False).head(10)\n",
    "indices=[]\n",
    "\n",
    "indices=top10.index\n",
    "print(indices)\n",
    "words=[]\n",
    "\n",
    "for i in indices:\n",
    "    feature_mapping=vectorizer.get_feature_names()\n",
    "    words.append(feature_mapping[i])\n",
    "\n",
    "res = sorted(words)\n",
    "print(res)\n",
    "\n",
    "f= open(\"answers_7/1.txt\",\"w+\")\n",
    "#f.write(str(words))\n",
    "f.write((\" \".join(res))) # этот метод не даёт лишних пробелов\n",
    "f.close()"
   ]
  },
  {
   "cell_type": "code",
   "execution_count": 135,
   "metadata": {
    "scrolled": true
   },
   "outputs": [
    {
     "ename": "IndexError",
     "evalue": "too many indices for array",
     "output_type": "error",
     "traceback": [
      "\u001b[1;31m---------------------------------------------------------------------------\u001b[0m",
      "\u001b[1;31mIndexError\u001b[0m                                Traceback (most recent call last)",
      "\u001b[1;32m<ipython-input-135-d41d731e2679>\u001b[0m in \u001b[0;36m<module>\u001b[1;34m\u001b[0m\n\u001b[0;32m      1\u001b[0m \u001b[1;31m# finish\u001b[0m\u001b[1;33m\u001b[0m\u001b[1;33m\u001b[0m\u001b[1;33m\u001b[0m\u001b[0m\n\u001b[1;32m----> 2\u001b[1;33m \u001b[0mten\u001b[0m \u001b[1;33m=\u001b[0m \u001b[0mnp\u001b[0m\u001b[1;33m.\u001b[0m\u001b[0margsort\u001b[0m\u001b[1;33m(\u001b[0m\u001b[0mclf2\u001b[0m\u001b[1;33m.\u001b[0m\u001b[0mcoef_\u001b[0m\u001b[1;33m)\u001b[0m\u001b[1;33m[\u001b[0m\u001b[1;36m0\u001b[0m\u001b[1;33m,\u001b[0m\u001b[1;33m-\u001b[0m\u001b[1;36m10\u001b[0m\u001b[1;33m:\u001b[0m\u001b[1;33m]\u001b[0m \u001b[1;31m# indeces last ten value (max)\u001b[0m\u001b[1;33m\u001b[0m\u001b[1;33m\u001b[0m\u001b[0m\n\u001b[0m\u001b[0;32m      3\u001b[0m \u001b[0mprint\u001b[0m\u001b[1;33m(\u001b[0m\u001b[0mten\u001b[0m\u001b[1;33m)\u001b[0m\u001b[1;33m\u001b[0m\u001b[1;33m\u001b[0m\u001b[0m\n\u001b[0;32m      4\u001b[0m \u001b[1;33m\u001b[0m\u001b[0m\n\u001b[0;32m      5\u001b[0m \u001b[0mwordsss\u001b[0m\u001b[1;33m=\u001b[0m\u001b[1;33m[\u001b[0m\u001b[1;33m]\u001b[0m\u001b[1;33m\u001b[0m\u001b[1;33m\u001b[0m\u001b[0m\n",
      "\u001b[1;31mIndexError\u001b[0m: too many indices for array"
     ]
    }
   ],
   "source": [
    "# finish my - not correct!!!\n",
    "ten = np.argsort(clf2.coef_)[0,-10:] # indeces last ten value (max)\n",
    "print(ten)\n",
    "\n",
    "wordsss=[]\n",
    "\n",
    "for i in ten:\n",
    "    feature_mapping = vectorizer.get_feature_names() # Array mapping from feature integer indices to feature name\n",
    "    wordsss.append(feature_mapping[i])\n",
    "\n",
    "res = sorted(wordsss)\n",
    "print(res)\n",
    "\n",
    "f= open(\"answers_7/1.txt\",\"w+\")\n",
    "#f.write(str(words))\n",
    "f.write((\" \" . join(res))) # этот метод не даёт лишних пробелов\n",
    "f.close()"
   ]
  }
 ],
 "metadata": {
  "kernelspec": {
   "display_name": "Python 3",
   "language": "python",
   "name": "python3"
  },
  "language_info": {
   "codemirror_mode": {
    "name": "ipython",
    "version": 3
   },
   "file_extension": ".py",
   "mimetype": "text/x-python",
   "name": "python",
   "nbconvert_exporter": "python",
   "pygments_lexer": "ipython3",
   "version": "3.7.1"
  },
  "toc": {
   "base_numbering": 1,
   "nav_menu": {},
   "number_sections": true,
   "sideBar": true,
   "skip_h1_title": false,
   "title_cell": "Table of Contents",
   "title_sidebar": "Contents",
   "toc_cell": false,
   "toc_position": {},
   "toc_section_display": true,
   "toc_window_display": false
  },
  "varInspector": {
   "cols": {
    "lenName": 16,
    "lenType": 16,
    "lenVar": 40
   },
   "kernels_config": {
    "python": {
     "delete_cmd_postfix": "",
     "delete_cmd_prefix": "del ",
     "library": "var_list.py",
     "varRefreshCmd": "print(var_dic_list())"
    },
    "r": {
     "delete_cmd_postfix": ") ",
     "delete_cmd_prefix": "rm(",
     "library": "var_list.r",
     "varRefreshCmd": "cat(var_dic_list()) "
    }
   },
   "position": {
    "height": "300.4px",
    "left": "1040.2px",
    "right": "20px",
    "top": "16px",
    "width": "483.4px"
   },
   "types_to_exclude": [
    "module",
    "function",
    "builtin_function_or_method",
    "instance",
    "_Feature"
   ],
   "window_display": false
  }
 },
 "nbformat": 4,
 "nbformat_minor": 2
}
