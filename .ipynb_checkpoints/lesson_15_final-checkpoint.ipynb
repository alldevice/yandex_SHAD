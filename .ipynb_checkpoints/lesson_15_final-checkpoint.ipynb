{
 "cells": [
  {
   "cell_type": "code",
   "execution_count": 202,
   "metadata": {},
   "outputs": [],
   "source": [
    "import pandas as pd\n",
    "import numpy as np\n",
    "import time\n",
    "import datetime\n",
    "from sklearn.ensemble import GradientBoostingClassifier\n",
    "from sklearn.model_selection import KFold\n",
    "from sklearn.metrics import roc_auc_score\n",
    "import matplotlib.pyplot as plt\n",
    "from tqdm import tqdm_notebook\n",
    "from sklearn.linear_model import LogisticRegression\n",
    "from sklearn.preprocessing import StandardScaler\n",
    "import warnings"
   ]
  },
  {
   "cell_type": "markdown",
   "metadata": {},
   "source": [
    "Подход 1: градиентный бустинг \"в лоб\""
   ]
  },
  {
   "cell_type": "code",
   "execution_count": 203,
   "metadata": {},
   "outputs": [
    {
     "name": "stdout",
     "output_type": "stream",
     "text": [
      "['first_blood_time', 'first_blood_team', 'first_blood_player1', 'first_blood_player2', 'radiant_bottle_time', 'radiant_courier_time', 'radiant_flying_courier_time', 'radiant_first_ward_time', 'dire_bottle_time', 'dire_courier_time', 'dire_flying_courier_time', 'dire_first_ward_time']\n"
     ]
    }
   ],
   "source": [
    "warnings.filterwarnings('ignore') # disable warnings\n",
    "pd.options.display.max_columns = None # disable restrict \n",
    "features = pd.read_csv('./features.csv', index_col='match_id')\n",
    "arr_feat_loss = []\n",
    "feat_droped = features.drop(['duration','radiant_win','tower_status_radiant','tower_status_dire','barracks_status_radiant','barracks_status_dire'], axis=1)\n",
    "for i, name_fe in enumerate(features.columns):\n",
    "    if (features.count()[i] < len(features.index)): \n",
    "        arr_feat_loss.append(name_fe)\n",
    "print(arr_feat_loss)\n",
    "feat_droped = feat_droped.fillna(0)\n",
    "\n",
    "# select all rows\n",
    "#X_clear = feat_droped # selected wished features\n",
    "#y_clear = features['radiant_win'] # selected target\n",
    "\n",
    "# randomize select rows\n",
    "r = np.random.randint(len(features.index),size=45000)\n",
    "X_clear = feat_droped.iloc[r,:]\n",
    "y_clear = features['radiant_win'].iloc[r]"
   ]
  },
  {
   "cell_type": "markdown",
   "metadata": {},
   "source": [
    "Prepare data № 1 (только scaler):"
   ]
  },
  {
   "cell_type": "code",
   "execution_count": 204,
   "metadata": {},
   "outputs": [],
   "source": [
    "scaler = StandardScaler()\n",
    "X_1 = pd.DataFrame(scaler.fit_transform(X_clear), index=X_clear.index, columns=X_clear.columns) # convert there and back\n",
    "y_1 = y_clear"
   ]
  },
  {
   "cell_type": "markdown",
   "metadata": {},
   "source": [
    "Prepare data № 2 (удаление категориальных признаков + scaler):"
   ]
  },
  {
   "cell_type": "code",
   "execution_count": 205,
   "metadata": {},
   "outputs": [],
   "source": [
    "X_1 = X_clear.drop(['lobby_type','r1_hero','r2_hero','r3_hero','r4_hero','r5_hero','d1_hero','d2_hero','d3_hero','d4_hero','d5_hero'], axis=1)\n",
    "scaler = StandardScaler()\n",
    "X_1 = pd.DataFrame(scaler.fit_transform(X_1), index=X_1.index, columns=X_1.columns) # convert there and back\n",
    "y_1 = y_clear"
   ]
  },
  {
   "cell_type": "markdown",
   "metadata": {},
   "source": [
    "Prepare data № 3 (удаление категориальных признаков + scaler + мешок слов):"
   ]
  },
  {
   "cell_type": "code",
   "execution_count": 210,
   "metadata": {},
   "outputs": [],
   "source": [
    "X_1 = X_clear.drop(['lobby_type','r1_hero','r2_hero','r3_hero','r4_hero','r5_hero','d1_hero','d2_hero','d3_hero','d4_hero','d5_hero'], axis=1)\n",
    "scaler = StandardScaler()\n",
    "X_1 = pd.DataFrame(scaler.fit_transform(X_1), index=X_1.index, columns=X_1.columns) # convert there and back\n",
    "y_1 = y_clear\n",
    "# N — количество различных героев в выборке\n",
    "N = len(pd.read_csv('./data/dictionaries/heroes.csv'))\n",
    "X_pick = np.zeros((X_1.shape[0], N))\n",
    "for i, match_id in enumerate(X_1.index):\n",
    "    for p in range(5):\n",
    "        X_pick[i, X_clear.ix[match_id, 'r%d_hero' % (p+1)]-1] = 1\n",
    "        X_pick[i, X_clear.ix[match_id, 'd%d_hero' % (p+1)]-1] = -1\n",
    "\n",
    "X_p = pd.DataFrame(X_pick, index=X_1.index)\n",
    "X_1 = pd.concat([X_1, X_p], axis=1, join_axes=[X_1.index]) # add to DataFrame"
   ]
  },
  {
   "cell_type": "code",
   "execution_count": 181,
   "metadata": {},
   "outputs": [
    {
     "data": {
      "application/vnd.jupyter.widget-view+json": {
       "model_id": "454687d4b6374d3ebe176806c083c0d1",
       "version_major": 2,
       "version_minor": 0
      },
      "text/plain": [
       "HBox(children=(IntProgress(value=0, max=9), HTML(value='')))"
      ]
     },
     "metadata": {},
     "output_type": "display_data"
    },
    {
     "data": {
      "application/vnd.jupyter.widget-view+json": {
       "model_id": "21c7fa9018ab494dbad3bd06ce1726b5",
       "version_major": 2,
       "version_minor": 0
      },
      "text/plain": [
       "HBox(children=(IntProgress(value=1, bar_style='info', max=1), HTML(value='')))"
      ]
     },
     "metadata": {},
     "output_type": "display_data"
    },
    {
     "data": {
      "application/vnd.jupyter.widget-view+json": {
       "model_id": "451c5e6a5fcc4d3797f407f9036099f7",
       "version_major": 2,
       "version_minor": 0
      },
      "text/plain": [
       "HBox(children=(IntProgress(value=1, bar_style='info', max=1), HTML(value='')))"
      ]
     },
     "metadata": {},
     "output_type": "display_data"
    },
    {
     "data": {
      "application/vnd.jupyter.widget-view+json": {
       "model_id": "1ffc069fc4364c238c8d742bddfe3a00",
       "version_major": 2,
       "version_minor": 0
      },
      "text/plain": [
       "HBox(children=(IntProgress(value=1, bar_style='info', max=1), HTML(value='')))"
      ]
     },
     "metadata": {},
     "output_type": "display_data"
    },
    {
     "data": {
      "application/vnd.jupyter.widget-view+json": {
       "model_id": "237fbd10b36e426699b29bd669b390e8",
       "version_major": 2,
       "version_minor": 0
      },
      "text/plain": [
       "HBox(children=(IntProgress(value=1, bar_style='info', max=1), HTML(value='')))"
      ]
     },
     "metadata": {},
     "output_type": "display_data"
    },
    {
     "data": {
      "application/vnd.jupyter.widget-view+json": {
       "model_id": "d81982f2b8db43eabdceef2520ba3f10",
       "version_major": 2,
       "version_minor": 0
      },
      "text/plain": [
       "HBox(children=(IntProgress(value=1, bar_style='info', max=1), HTML(value='')))"
      ]
     },
     "metadata": {},
     "output_type": "display_data"
    },
    {
     "data": {
      "application/vnd.jupyter.widget-view+json": {
       "model_id": "8839444ac40f494d938e77ad45d82e15",
       "version_major": 2,
       "version_minor": 0
      },
      "text/plain": [
       "HBox(children=(IntProgress(value=1, bar_style='info', max=1), HTML(value='')))"
      ]
     },
     "metadata": {},
     "output_type": "display_data"
    },
    {
     "data": {
      "application/vnd.jupyter.widget-view+json": {
       "model_id": "b012d70bb44740fe8aa292c2a8266c78",
       "version_major": 2,
       "version_minor": 0
      },
      "text/plain": [
       "HBox(children=(IntProgress(value=1, bar_style='info', max=1), HTML(value='')))"
      ]
     },
     "metadata": {},
     "output_type": "display_data"
    },
    {
     "data": {
      "application/vnd.jupyter.widget-view+json": {
       "model_id": "7acd5dd6d6204b5aa0528d1637407271",
       "version_major": 2,
       "version_minor": 0
      },
      "text/plain": [
       "HBox(children=(IntProgress(value=1, bar_style='info', max=1), HTML(value='')))"
      ]
     },
     "metadata": {},
     "output_type": "display_data"
    },
    {
     "data": {
      "application/vnd.jupyter.widget-view+json": {
       "model_id": "4e96983397f14d52afc959f16c33dbfd",
       "version_major": 2,
       "version_minor": 0
      },
      "text/plain": [
       "HBox(children=(IntProgress(value=1, bar_style='info', max=1), HTML(value='')))"
      ]
     },
     "metadata": {},
     "output_type": "display_data"
    },
    {
     "name": "stdout",
     "output_type": "stream",
     "text": [
      "Time elapsed: 0:08:37.483916\n",
      "[0.6656910778211926, 0.6842382619919626, 0.6915643473236095, 0.6989535514229421, 0.7025545823967126, 0.7058162240783001, 0.7090081264278469, 0.71001345802821, 0.7128722614764685]\n"
     ]
    },
    {
     "data": {
      "image/png": "[encoded data removed]",
      "text/plain": [
       "<Figure size 432x288 with 1 Axes>"
      ]
     },
     "metadata": {
      "needs_background": "dark"
     },
     "output_type": "display_data"
    }
   ],
   "source": [
    "# calculate for different number trees\n",
    "n_ras = [] # array values auc-roc per n_trees\n",
    "start_time = datetime.datetime.now() # fstart calculate time\n",
    "for n_trees in tqdm_notebook(np.arange(10,100,10)):\n",
    "    gbc = GradientBoostingClassifier(n_estimators=n_trees, random_state=42)\n",
    "    kf = KFold(n_splits=5, shuffle=True, random_state=42)\n",
    "    ras = [] # array values auc-roc into KFold\n",
    "    for train_index, test_index in tqdm_notebook(kf.split(X_1)):\n",
    "        X_train, X_test = X_1.values[train_index], X_1.values[test_index]\n",
    "        y_train, y_test = y_1.values[train_index], y_1.values[test_index]\n",
    "        gbc.fit(X_train, y_train)\n",
    "        y_scores = gbc.predict_proba(X_test)[:, 1]\n",
    "        ras.append(roc_auc_score(y_test, y_scores, average='samples'))\n",
    "    n_ras.append(np.mean(ras))\n",
    "print('Time elapsed:', datetime.datetime.now() - start_time) # stop calculate time    \n",
    "print(n_ras)\n",
    "plt.title('array values auc-roc per n_trees', color='yellow')\n",
    "plt.rc('axes',edgecolor='yellow')\n",
    "plt.rcParams['xtick.color'] = 'yellow'\n",
    "plt.rcParams['ytick.color'] = 'yellow'\n",
    "plt.plot(np.arange(10,100,10),n_ras) # for line\n",
    "plt.legend(['auc-roc'], loc='upper left')\n",
    "plt.grid(True)"
   ]
  },
  {
   "cell_type": "code",
   "execution_count": 200,
   "metadata": {
    "scrolled": true
   },
   "outputs": [
    {
     "data": {
      "application/vnd.jupyter.widget-view+json": {
       "model_id": "4c68cbef61b5404eb2f0a1d4a4e310f8",
       "version_major": 2,
       "version_minor": 0
      },
      "text/plain": [
       "HBox(children=(IntProgress(value=1, bar_style='info', max=1), HTML(value='')))"
      ]
     },
     "metadata": {},
     "output_type": "display_data"
    },
    {
     "name": "stdout",
     "output_type": "stream",
     "text": [
      "Time elapsed for 30 trees: 0:01:04.302799\n",
      "Score AUC-ROC:  0.692805087662442\n"
     ]
    }
   ],
   "source": [
    "# calculate time for 30 trees\n",
    "start_time = datetime.datetime.now() # fstart calculate time\n",
    "gbc = GradientBoostingClassifier(n_estimators=30, random_state=42)\n",
    "kf = KFold(n_splits=5, shuffle=True)\n",
    "ras = [] # array values auc-roc into KFold\n",
    "for train_index, test_index in tqdm_notebook(kf.split(X_1)):\n",
    "    X_train, X_test = X_1.values[train_index], X_1.values[test_index]\n",
    "    y_train, y_test = y_1.values[train_index], y_1.values[test_index]\n",
    "    gbc.fit(X_train, y_train)\n",
    "    y_scores = gbc.predict_proba(X_test)[:, 1]\n",
    "    ras.append(roc_auc_score(y_test, y_scores, average='samples'))\n",
    "print('Time elapsed for 30 trees:', datetime.datetime.now() - start_time) # stop calculate time    \n",
    "print('Score AUC-ROC: ', np.mean(ras))\n"
   ]
  },
  {
   "cell_type": "markdown",
   "metadata": {},
   "source": [
    "Отчёт № 1 :\n",
    "1. пропуски имеют следующие признаки: 'first_blood_time', 'first_blood_team', 'first_blood_player1', 'first_blood_player2', 'radiant_bottle_time', 'radiant_courier_time', 'radiant_flying_courier_time', 'radiant_first_ward_time', 'dire_bottle_time', 'dire_courier_time', 'dire_flying_courier_time', 'dire_first_ward_time'.\n",
    "Основная причина пропусков - в течение первых пяти минут не всегда успевают произойти определённые события. Например, аннигиляция соперников и приобретения предметов (first_blood_time, first_blood_player1, dire_bottle_time etc.)\n",
    "2. Целевую переменную содержит столбец 'radiant_win'\n",
    "3. Time elapsed for 30 trees: 0:01:23.987412 ; Score AUC-ROC:  0.6893316710163322 (взята полная выборка объектов)\n",
    "4. Если применять градиентный бустинг к данной задаче, то при увеличении числа деревьев качество всё время повышается \n",
    "(в цикле от 10 до 90 деревьев оптимум не достигнут). Делать больше, чем 30 деревьев смысл есть, и для ускорения работы алгоритма можно упростить модель (уменьшить max_depth), брать лишь часть объектов для обучения. Для данного анализа была случайно отобрана треть выборки, длительность расчёта - 'Time elapsed: 0:05:31.306915'"
   ]
  },
  {
   "cell_type": "markdown",
   "metadata": {},
   "source": [
    "Подход 2: логистическая регрессия"
   ]
  },
  {
   "cell_type": "code",
   "execution_count": 211,
   "metadata": {},
   "outputs": [
    {
     "data": {
      "application/vnd.jupyter.widget-view+json": {
       "model_id": "c136bcd5ebc74fcda5c4a7f447baa205",
       "version_major": 2,
       "version_minor": 0
      },
      "text/plain": [
       "HBox(children=(IntProgress(value=0, max=11), HTML(value='')))"
      ]
     },
     "metadata": {},
     "output_type": "display_data"
    },
    {
     "name": "stdout",
     "output_type": "stream",
     "text": [
      "Time elapsed: 0:01:32.468142\n",
      "C = 0.1\n",
      "AUC_ROC = 0.7491733006273021\n"
     ]
    },
    {
     "data": {
      "image/png": "[encoded data removed]",
      "text/plain": [
       "<Figure size 432x288 with 1 Axes>"
      ]
     },
     "metadata": {
      "needs_background": "dark"
     },
     "output_type": "display_data"
    }
   ],
   "source": [
    "# Logistic Regression (with change parameter C)\n",
    "n_ras = [] # array values auc-roc per param\n",
    "start_time = datetime.datetime.now() # fstart calculate time\n",
    "C_pow_range = range(-5, 6)\n",
    "C_range = [10.0 ** i for i in C_pow_range]\n",
    "for param in tqdm_notebook(C_range):\n",
    "    logreg = LogisticRegression(penalty='l2', C=param, solver='liblinear', random_state=42)\n",
    "    kf = KFold(n_splits=5, shuffle=True, random_state=42)\n",
    "    ras = [] # array values auc-roc into KFold\n",
    "    for train_index, test_index in kf.split(X_1):\n",
    "        X_train, X_test = X_1.values[train_index], X_1.values[test_index]\n",
    "        y_train, y_test = y_1.values[train_index], y_1.values[test_index]\n",
    "        coef_ = logreg.fit(X_train, y_train)\n",
    "        y_scores = logreg.predict_proba(X_test)[:, 1]\n",
    "        ras.append(roc_auc_score(y_test, y_scores, average='samples'))\n",
    "    n_ras.append(np.mean(ras))\n",
    "print('Time elapsed:', datetime.datetime.now() - start_time) # stop calculate time    \n",
    "plt.title('array values auc-roc per param', color='yellow')\n",
    "plt.rc('axes',edgecolor='yellow')\n",
    "plt.rcParams['xtick.color'] = 'yellow'\n",
    "plt.rcParams['ytick.color'] = 'yellow'\n",
    "plt.plot(C_pow_range,n_ras) # for line\n",
    "plt.legend(['auc-roc'], loc='upper left')\n",
    "plt.grid(True)\n",
    "max_sc = max(n_ras)\n",
    "max_sc_ind = n_ras.index(max_sc)\n",
    "print('C =',C_range[max_sc_ind])\n",
    "print('AUC_ROC =',max_sc)"
   ]
  },
  {
   "cell_type": "markdown",
   "metadata": {},
   "source": [
    "Отчёт № 2 :\n",
    "1. Time elapsed: 0:00:50.507989, C = 0.01, AUC_ROC = 0.7160638917630875 ; И для градиентного бустинга: Time elapsed: 0:08:37.483916, AUC_ROC = 0.7128722614764685, n_trees = 90. Качество логистической регресии при оптимальном параметре регуляризации примерно равно качеству градиентного бустинга на большом количестве деревьев (90), а работает намного быстрее.\n",
    "2. После удаления категориальных признаков качество существенно не изменилось (AUC_ROC = 0.7157740267683506). Алгоритм к ним оказался устойчив.\n",
    "3. N = pd.read_csv('./data/dictionaries/heroes.csv'). 112 различных героев\n",
    "4. При добавлении \"мешка слов\" качество выросло (AUC_ROC = 0.7491733006273021, при С = 0.1). Это связано с появлением дополнительной релевантной информации в виде разреженной матрицы, которая хорошо обрабатывается данным алгоритмом.\n",
    "5. predict_min =  0.010685909693386246, predict_max =  0.9970000223919274\n",
    "\n",
    "* анализ производился для 45000 объектов обучающей выборки. Сокращение выборки сделано с целью ускорения вычислений."
   ]
  },
  {
   "cell_type": "markdown",
   "metadata": {},
   "source": [
    "Прогноз для тестовой выборки:"
   ]
  },
  {
   "cell_type": "code",
   "execution_count": 244,
   "metadata": {},
   "outputs": [
    {
     "name": "stdout",
     "output_type": "stream",
     "text": [
      "predict_max =  0.9970000223919274\n",
      "predict_min =  0.010685909693386246\n"
     ]
    },
    {
     "data": {
      "text/html": [
       "<div>\n",
       "<style scoped>\n",
       "    .dataframe tbody tr th:only-of-type {\n",
       "        vertical-align: middle;\n",
       "    }\n",
       "\n",
       "    .dataframe tbody tr th {\n",
       "        vertical-align: top;\n",
       "    }\n",
       "\n",
       "    .dataframe thead th {\n",
       "        text-align: right;\n",
       "    }\n",
       "</style>\n",
       "<table border=\"1\" class=\"dataframe\">\n",
       "  <thead>\n",
       "    <tr style=\"text-align: right;\">\n",
       "      <th></th>\n",
       "      <th>radiant_win</th>\n",
       "    </tr>\n",
       "    <tr>\n",
       "      <th>match_id</th>\n",
       "      <th></th>\n",
       "    </tr>\n",
       "  </thead>\n",
       "  <tbody>\n",
       "    <tr>\n",
       "      <th>6</th>\n",
       "      <td>0.807805</td>\n",
       "    </tr>\n",
       "    <tr>\n",
       "      <th>7</th>\n",
       "      <td>0.718602</td>\n",
       "    </tr>\n",
       "    <tr>\n",
       "      <th>10</th>\n",
       "      <td>0.178821</td>\n",
       "    </tr>\n",
       "    <tr>\n",
       "      <th>13</th>\n",
       "      <td>0.876573</td>\n",
       "    </tr>\n",
       "    <tr>\n",
       "      <th>16</th>\n",
       "      <td>0.280858</td>\n",
       "    </tr>\n",
       "    <tr>\n",
       "      <th>18</th>\n",
       "      <td>0.326273</td>\n",
       "    </tr>\n",
       "    <tr>\n",
       "      <th>19</th>\n",
       "      <td>0.498932</td>\n",
       "    </tr>\n",
       "    <tr>\n",
       "      <th>24</th>\n",
       "      <td>0.562708</td>\n",
       "    </tr>\n",
       "    <tr>\n",
       "      <th>33</th>\n",
       "      <td>0.213019</td>\n",
       "    </tr>\n",
       "    <tr>\n",
       "      <th>37</th>\n",
       "      <td>0.698468</td>\n",
       "    </tr>\n",
       "    <tr>\n",
       "      <th>41</th>\n",
       "      <td>0.131706</td>\n",
       "    </tr>\n",
       "    <tr>\n",
       "      <th>42</th>\n",
       "      <td>0.315192</td>\n",
       "    </tr>\n",
       "    <tr>\n",
       "      <th>55</th>\n",
       "      <td>0.159466</td>\n",
       "    </tr>\n",
       "    <tr>\n",
       "      <th>60</th>\n",
       "      <td>0.641029</td>\n",
       "    </tr>\n",
       "    <tr>\n",
       "      <th>62</th>\n",
       "      <td>0.559118</td>\n",
       "    </tr>\n",
       "    <tr>\n",
       "      <th>63</th>\n",
       "      <td>0.627329</td>\n",
       "    </tr>\n",
       "    <tr>\n",
       "      <th>64</th>\n",
       "      <td>0.079818</td>\n",
       "    </tr>\n",
       "    <tr>\n",
       "      <th>71</th>\n",
       "      <td>0.564822</td>\n",
       "    </tr>\n",
       "    <tr>\n",
       "      <th>72</th>\n",
       "      <td>0.314557</td>\n",
       "    </tr>\n",
       "    <tr>\n",
       "      <th>83</th>\n",
       "      <td>0.482900</td>\n",
       "    </tr>\n",
       "    <tr>\n",
       "      <th>85</th>\n",
       "      <td>0.785869</td>\n",
       "    </tr>\n",
       "    <tr>\n",
       "      <th>89</th>\n",
       "      <td>0.912232</td>\n",
       "    </tr>\n",
       "    <tr>\n",
       "      <th>92</th>\n",
       "      <td>0.704773</td>\n",
       "    </tr>\n",
       "    <tr>\n",
       "      <th>100</th>\n",
       "      <td>0.960292</td>\n",
       "    </tr>\n",
       "    <tr>\n",
       "      <th>102</th>\n",
       "      <td>0.897128</td>\n",
       "    </tr>\n",
       "    <tr>\n",
       "      <th>108</th>\n",
       "      <td>0.503928</td>\n",
       "    </tr>\n",
       "    <tr>\n",
       "      <th>111</th>\n",
       "      <td>0.806838</td>\n",
       "    </tr>\n",
       "    <tr>\n",
       "      <th>126</th>\n",
       "      <td>0.187560</td>\n",
       "    </tr>\n",
       "    <tr>\n",
       "      <th>130</th>\n",
       "      <td>0.058478</td>\n",
       "    </tr>\n",
       "    <tr>\n",
       "      <th>140</th>\n",
       "      <td>0.746003</td>\n",
       "    </tr>\n",
       "    <tr>\n",
       "      <th>...</th>\n",
       "      <td>...</td>\n",
       "    </tr>\n",
       "    <tr>\n",
       "      <th>114165</th>\n",
       "      <td>0.789538</td>\n",
       "    </tr>\n",
       "    <tr>\n",
       "      <th>114168</th>\n",
       "      <td>0.643184</td>\n",
       "    </tr>\n",
       "    <tr>\n",
       "      <th>114171</th>\n",
       "      <td>0.456234</td>\n",
       "    </tr>\n",
       "    <tr>\n",
       "      <th>114183</th>\n",
       "      <td>0.176152</td>\n",
       "    </tr>\n",
       "    <tr>\n",
       "      <th>114188</th>\n",
       "      <td>0.593613</td>\n",
       "    </tr>\n",
       "    <tr>\n",
       "      <th>114192</th>\n",
       "      <td>0.861317</td>\n",
       "    </tr>\n",
       "    <tr>\n",
       "      <th>114195</th>\n",
       "      <td>0.514176</td>\n",
       "    </tr>\n",
       "    <tr>\n",
       "      <th>114202</th>\n",
       "      <td>0.459071</td>\n",
       "    </tr>\n",
       "    <tr>\n",
       "      <th>114209</th>\n",
       "      <td>0.421257</td>\n",
       "    </tr>\n",
       "    <tr>\n",
       "      <th>114211</th>\n",
       "      <td>0.800415</td>\n",
       "    </tr>\n",
       "    <tr>\n",
       "      <th>114217</th>\n",
       "      <td>0.802049</td>\n",
       "    </tr>\n",
       "    <tr>\n",
       "      <th>114232</th>\n",
       "      <td>0.385007</td>\n",
       "    </tr>\n",
       "    <tr>\n",
       "      <th>114236</th>\n",
       "      <td>0.489062</td>\n",
       "    </tr>\n",
       "    <tr>\n",
       "      <th>114238</th>\n",
       "      <td>0.654629</td>\n",
       "    </tr>\n",
       "    <tr>\n",
       "      <th>114242</th>\n",
       "      <td>0.588986</td>\n",
       "    </tr>\n",
       "    <tr>\n",
       "      <th>114247</th>\n",
       "      <td>0.275996</td>\n",
       "    </tr>\n",
       "    <tr>\n",
       "      <th>114285</th>\n",
       "      <td>0.244168</td>\n",
       "    </tr>\n",
       "    <tr>\n",
       "      <th>114286</th>\n",
       "      <td>0.449812</td>\n",
       "    </tr>\n",
       "    <tr>\n",
       "      <th>114314</th>\n",
       "      <td>0.544487</td>\n",
       "    </tr>\n",
       "    <tr>\n",
       "      <th>114327</th>\n",
       "      <td>0.476860</td>\n",
       "    </tr>\n",
       "    <tr>\n",
       "      <th>114330</th>\n",
       "      <td>0.421230</td>\n",
       "    </tr>\n",
       "    <tr>\n",
       "      <th>114337</th>\n",
       "      <td>0.356779</td>\n",
       "    </tr>\n",
       "    <tr>\n",
       "      <th>114348</th>\n",
       "      <td>0.191573</td>\n",
       "    </tr>\n",
       "    <tr>\n",
       "      <th>114349</th>\n",
       "      <td>0.579778</td>\n",
       "    </tr>\n",
       "    <tr>\n",
       "      <th>114361</th>\n",
       "      <td>0.308035</td>\n",
       "    </tr>\n",
       "    <tr>\n",
       "      <th>114369</th>\n",
       "      <td>0.661385</td>\n",
       "    </tr>\n",
       "    <tr>\n",
       "      <th>114377</th>\n",
       "      <td>0.676547</td>\n",
       "    </tr>\n",
       "    <tr>\n",
       "      <th>114378</th>\n",
       "      <td>0.270895</td>\n",
       "    </tr>\n",
       "    <tr>\n",
       "      <th>114393</th>\n",
       "      <td>0.590263</td>\n",
       "    </tr>\n",
       "    <tr>\n",
       "      <th>114398</th>\n",
       "      <td>0.423895</td>\n",
       "    </tr>\n",
       "  </tbody>\n",
       "</table>\n",
       "<p>17177 rows × 1 columns</p>\n",
       "</div>"
      ],
      "text/plain": [
       "          radiant_win\n",
       "match_id             \n",
       "6            0.807805\n",
       "7            0.718602\n",
       "10           0.178821\n",
       "13           0.876573\n",
       "16           0.280858\n",
       "18           0.326273\n",
       "19           0.498932\n",
       "24           0.562708\n",
       "33           0.213019\n",
       "37           0.698468\n",
       "41           0.131706\n",
       "42           0.315192\n",
       "55           0.159466\n",
       "60           0.641029\n",
       "62           0.559118\n",
       "63           0.627329\n",
       "64           0.079818\n",
       "71           0.564822\n",
       "72           0.314557\n",
       "83           0.482900\n",
       "85           0.785869\n",
       "89           0.912232\n",
       "92           0.704773\n",
       "100          0.960292\n",
       "102          0.897128\n",
       "108          0.503928\n",
       "111          0.806838\n",
       "126          0.187560\n",
       "130          0.058478\n",
       "140          0.746003\n",
       "...               ...\n",
       "114165       0.789538\n",
       "114168       0.643184\n",
       "114171       0.456234\n",
       "114183       0.176152\n",
       "114188       0.593613\n",
       "114192       0.861317\n",
       "114195       0.514176\n",
       "114202       0.459071\n",
       "114209       0.421257\n",
       "114211       0.800415\n",
       "114217       0.802049\n",
       "114232       0.385007\n",
       "114236       0.489062\n",
       "114238       0.654629\n",
       "114242       0.588986\n",
       "114247       0.275996\n",
       "114285       0.244168\n",
       "114286       0.449812\n",
       "114314       0.544487\n",
       "114327       0.476860\n",
       "114330       0.421230\n",
       "114337       0.356779\n",
       "114348       0.191573\n",
       "114349       0.579778\n",
       "114361       0.308035\n",
       "114369       0.661385\n",
       "114377       0.676547\n",
       "114378       0.270895\n",
       "114393       0.590263\n",
       "114398       0.423895\n",
       "\n",
       "[17177 rows x 1 columns]"
      ]
     },
     "metadata": {},
     "output_type": "display_data"
    }
   ],
   "source": [
    "# load test-data and prepare\n",
    "test = pd.read_csv('./data/features_test.csv', index_col='match_id')\n",
    "test_prep = test.fillna(0)\n",
    "X_1_t = test_prep.drop(['lobby_type','r1_hero','r2_hero','r3_hero','r4_hero','r5_hero','d1_hero','d2_hero','d3_hero','d4_hero','d5_hero'], axis=1)\n",
    "scaler = StandardScaler()\n",
    "X_1_t = pd.DataFrame(scaler.fit_transform(X_1_t), index=X_1_t.index, columns=X_1_t.columns) # convert there and back\n",
    "# N — количество различных героев в выборке\n",
    "N = len(pd.read_csv('./data/dictionaries/heroes.csv'))\n",
    "X_pick = np.zeros((X_1_t.shape[0], N))\n",
    "for i, match_id in enumerate(X_1_t.index):\n",
    "    for p in range(5):\n",
    "        X_pick[i, test_prep.ix[match_id, 'r%d_hero' % (p+1)]-1] = 1\n",
    "        X_pick[i, test_prep.ix[match_id, 'd%d_hero' % (p+1)]-1] = -1\n",
    "\n",
    "X_p_t = pd.DataFrame(X_pick, index=X_1_t.index)\n",
    "X_1_t = pd.concat([X_1_t, X_p_t], axis=1, join_axes=[X_1_t.index]) # add to DataFrame\n",
    "\n",
    "# fit model\n",
    "best_model = LogisticRegression(C=0.1, random_state=42)\n",
    "best_model.fit(X_1, y_1)\n",
    "y_test = best_model.predict_proba(X_1_t)[:, 1]\n",
    "answ = pd.DataFrame({'radiant_win': y_test}, index=X_1_t.index)\n",
    "answ.index.name = 'match_id'\n",
    "answ.to_csv('./answers_final/answ.csv')\n",
    "print('predict_max = ',float(answ.max().values))\n",
    "print('predict_min = ',float(answ.min().values))\n",
    "display(answ)"
   ]
  }
 ],
 "metadata": {
  "celltoolbar": "Raw Cell Format",
  "kernelspec": {
   "display_name": "Python 3",
   "language": "python",
   "name": "python3"
  },
  "language_info": {
   "codemirror_mode": {
    "name": "ipython",
    "version": 3
   },
   "file_extension": ".py",
   "mimetype": "text/x-python",
   "name": "python",
   "nbconvert_exporter": "python",
   "pygments_lexer": "ipython3",
   "version": "3.7.1"
  },
  "varInspector": {
   "cols": {
    "lenName": 16,
    "lenType": 16,
    "lenVar": 40
   },
   "kernels_config": {
    "python": {
     "delete_cmd_postfix": "",
     "delete_cmd_prefix": "del ",
     "library": "var_list.py",
     "varRefreshCmd": "print(var_dic_list())"
    },
    "r": {
     "delete_cmd_postfix": ") ",
     "delete_cmd_prefix": "rm(",
     "library": "var_list.r",
     "varRefreshCmd": "cat(var_dic_list()) "
    }
   },
   "position": {
    "height": "252.8px",
    "left": "1185.6px",
    "right": "20px",
    "top": "120px",
    "width": "331.8px"
   },
   "types_to_exclude": [
    "module",
    "function",
    "builtin_function_or_method",
    "instance",
    "_Feature"
   ],
   "window_display": false
  }
 },
 "nbformat": 4,
 "nbformat_minor": 2
}
