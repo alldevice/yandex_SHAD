{
 "cells": [
  {
   "cell_type": "code",
   "execution_count": 1,
   "metadata": {},
   "outputs": [
    {
     "name": "stdout",
     "output_type": "stream",
     "text": [
      "OK\n"
     ]
    }
   ],
   "source": [
    "import pandas as pd\n",
    "import numpy as np\n",
    "from scipy.special import expit # for sigmoid. The expit function, also known as the logistic function, is defined as expit(x) = 1/(1+exp(-x)). It is the inverse of the logit function\n",
    "from scipy.spatial import distance\n",
    "from math import exp, expm1\n",
    "from sklearn.metrics import roc_auc_score\n",
    "import matplotlib.pyplot as plt\n",
    "\n",
    "def sigmoid(x, derivative=False):\n",
    "    sigm = 1. / (1. + np.exp(-x))\n",
    "    if derivative:\n",
    "        return sigm * (1. - sigm)\n",
    "    return sigm\n",
    "\n",
    "print('OK')"
   ]
  },
  {
   "cell_type": "code",
   "execution_count": 2,
   "metadata": {},
   "outputs": [
    {
     "name": "stdout",
     "output_type": "stream",
     "text": [
      "OK\n"
     ]
    }
   ],
   "source": [
    "r_data = pd.read_csv('data-logistic.csv', index_col=None, header=None)\n",
    "x = r_data[r_data.columns[1:3]]\n",
    "y = r_data[r_data.columns[0]]\n",
    "le = len(x)\n",
    "print('OK')"
   ]
  },
  {
   "cell_type": "code",
   "execution_count": 3,
   "metadata": {},
   "outputs": [
    {
     "name": "stdout",
     "output_type": "stream",
     "text": [
      "OK\n"
     ]
    }
   ],
   "source": [
    "def my_grad_reg(C,k,le,x,y,w0,w1):\n",
    "    W = []\n",
    "    for j in np.arange(0,num_iter):\n",
    "        w0l = w0\n",
    "        w1l = w1\n",
    "        w0 = w0 + k*np.mean((y*x.iloc[:,0]*(1-expit(y*(w0*x.iloc[:,0]+w1*x.iloc[:,1]))))) - k*C*w0\n",
    "        w1 = w1 + k*np.mean((y*x.iloc[:,1]*(1-expit(y*(w0*x.iloc[:,0]+w1*x.iloc[:,1]))))) - k*C*w1\n",
    "        dist = distance.euclidean([w0,w1], [w0l,w1l])    \n",
    "        W.append(dist)\n",
    "        if dist <= min_dist:\n",
    "            break\n",
    "    return dist,w0,w1,W\n",
    "#print(W)\n",
    "#print(len(W))\n",
    "print('OK')"
   ]
  },
  {
   "cell_type": "code",
   "execution_count": 8,
   "metadata": {},
   "outputs": [
    {
     "name": "stdout",
     "output_type": "stream",
     "text": [
      "0.9268571428571428\n",
      "0.9362857142857142\n",
      "6\n",
      "[0.045405514266151796, 0.009261143226346392, 0.0016424595906386961, 0.0002707036661950129, 4.124974142271603e-05, 5.83362642710993e-06]\n",
      "OK\n"
     ]
    },
    {
     "data": {
      "image/png": "[encoded data removed]",
      "text/plain": [
       "<Figure size 432x288 with 1 Axes>"
      ]
     },
     "metadata": {
      "needs_background": "light"
     },
     "output_type": "display_data"
    }
   ],
   "source": [
    "num_iter = 10000\n",
    "min_dist = expm1(1e-5)\n",
    "k = 0.1\n",
    "C = 0\n",
    "w0 = 0\n",
    "w1 = 0\n",
    "dist,w0,w1,W = my_grad_reg(C,k,le,x,y,w0,w1)\n",
    "a0 = expit(w0*x.iloc[:,0] + w1*x.iloc[:,1]) # result model - probality level\n",
    "score_0 = roc_auc_score(y, a0)\n",
    "print(score_0)\n",
    "\n",
    "C = 10\n",
    "w0 = 0\n",
    "w1 = 0\n",
    "dist,w0,w1,W = my_grad_reg(C,k,le,x,y,w0,w1)\n",
    "a1 = expit(w0*x.iloc[:,0] + w1*x.iloc[:,1]) # result model - probality level\n",
    "score_1 = roc_auc_score(y, a1)\n",
    "print(score_1)\n",
    "\n",
    "f= open(\"answers_8/1.txt\",\"w+\")\n",
    "f.write(str(np.round((score_0), decimals=3))+' '+str(np.round((score_1), decimals=3)))\n",
    "f.close()\n",
    "\n",
    "print(len(W))\n",
    "print(W)\n",
    "plt.plot(np.arange(0,len(W)),W)\n",
    "print('OK')"
   ]
  }
 ],
 "metadata": {
  "kernelspec": {
   "display_name": "Python 3",
   "language": "python",
   "name": "python3"
  },
  "language_info": {
   "codemirror_mode": {
    "name": "ipython",
    "version": 3
   },
   "file_extension": ".py",
   "mimetype": "text/x-python",
   "name": "python",
   "nbconvert_exporter": "python",
   "pygments_lexer": "ipython3",
   "version": "3.5.2"
  },
  "varInspector": {
   "cols": {
    "lenName": 16,
    "lenType": 16,
    "lenVar": 40
   },
   "kernels_config": {
    "python": {
     "delete_cmd_postfix": "",
     "delete_cmd_prefix": "del ",
     "library": "var_list.py",
     "varRefreshCmd": "print(var_dic_list())"
    },
    "r": {
     "delete_cmd_postfix": ") ",
     "delete_cmd_prefix": "rm(",
     "library": "var_list.r",
     "varRefreshCmd": "cat(var_dic_list()) "
    }
   },
   "position": {
    "height": "169.2px",
    "left": "1137.6px",
    "right": "20px",
    "top": "13px",
    "width": "394.2px"
   },
   "types_to_exclude": [
    "module",
    "function",
    "builtin_function_or_method",
    "instance",
    "_Feature"
   ],
   "window_display": true
  }
 },
 "nbformat": 4,
 "nbformat_minor": 2
}
