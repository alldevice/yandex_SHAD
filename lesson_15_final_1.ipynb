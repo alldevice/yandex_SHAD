{
 "cells": [
  {
   "cell_type": "code",
   "execution_count": 1,
   "metadata": {},
   "outputs": [],
   "source": [
    "import pandas as pd\n",
    "import numpy as np\n",
    "import time\n",
    "import datetime\n",
    "from sklearn.ensemble import GradientBoostingClassifier\n",
    "from sklearn.model_selection import KFold\n",
    "from sklearn.metrics import roc_auc_score\n",
    "import matplotlib.pyplot as plt\n",
    "from tqdm import tqdm_notebook\n",
    "from sklearn.linear_model import LogisticRegression\n",
    "from sklearn.preprocessing import StandardScaler"
   ]
  },
  {
   "cell_type": "code",
   "execution_count": null,
   "metadata": {},
   "outputs": [],
   "source": [
    "# 1 stage"
   ]
  },
  {
   "cell_type": "code",
   "execution_count": 2,
   "metadata": {},
   "outputs": [
    {
     "name": "stdout",
     "output_type": "stream",
     "text": [
      "['first_blood_time', 'first_blood_team', 'first_blood_player1', 'first_blood_player2', 'radiant_bottle_time', 'radiant_courier_time', 'radiant_flying_courier_time', 'radiant_first_ward_time', 'dire_bottle_time', 'dire_courier_time', 'dire_flying_courier_time', 'dire_first_ward_time']\n",
      "radiant_win\n"
     ]
    }
   ],
   "source": [
    "features = pd.read_csv('./features.csv', index_col='match_id')\n",
    "pd.options.display.max_columns = None\n",
    "arr_feat_loss = []\n",
    "feat_droped = features.drop(['duration','radiant_win','tower_status_radiant','tower_status_dire','barracks_status_radiant','barracks_status_dire'], axis=1)\n",
    "for i, name_fe in enumerate(features.columns):\n",
    "    if (features.count()[i] < len(features.index)): \n",
    "        arr_feat_loss.append(name_fe)\n",
    "print(arr_feat_loss)\n",
    "feat_droped = feat_droped.fillna(0)\n",
    "print('radiant_win')"
   ]
  },
  {
   "cell_type": "code",
   "execution_count": 14,
   "metadata": {},
   "outputs": [],
   "source": [
    "# select all rows\n",
    "#X_0 = feat_droped # selected wished features\n",
    "#y_0 = features['radiant_win'] # selected target\n",
    "\n",
    "# randomize select rows\n",
    "r = np.random.randint(len(features.index),size=5000)\n",
    "X_0 = feat_droped.iloc[r,:]\n",
    "y_0 = features['radiant_win'].iloc[r]"
   ]
  },
  {
   "cell_type": "code",
   "execution_count": 15,
   "metadata": {},
   "outputs": [
    {
     "name": "stderr",
     "output_type": "stream",
     "text": [
      "/usr/local/lib/python3.5/dist-packages/sklearn/preprocessing/data.py:625: DataConversionWarning: Data with input dtype int64, float64 were all converted to float64 by StandardScaler.\n",
      "  return self.partial_fit(X, y)\n",
      "/usr/local/lib/python3.5/dist-packages/sklearn/base.py:462: DataConversionWarning: Data with input dtype int64, float64 were all converted to float64 by StandardScaler.\n",
      "  return self.fit(X, **fit_params).transform(X)\n"
     ]
    },
    {
     "data": {
      "application/vnd.jupyter.widget-view+json": {
       "model_id": "bf817d20099446c5aba842c49643013e",
       "version_major": 2,
       "version_minor": 0
      },
      "text/plain": [
       "HBox(children=(IntProgress(value=1, bar_style='info', max=1), HTML(value='')))"
      ]
     },
     "metadata": {},
     "output_type": "display_data"
    },
    {
     "name": "stderr",
     "output_type": "stream",
     "text": [
      "/usr/local/lib/python3.5/dist-packages/ipykernel_launcher.py:14: DeprecationWarning: \n",
      ".ix is deprecated. Please use\n",
      ".loc for label based indexing or\n",
      ".iloc for positional indexing\n",
      "\n",
      "See the documentation here:\n",
      "http://pandas.pydata.org/pandas-docs/stable/indexing.html#ix-indexer-is-deprecated\n",
      "  \n",
      "/usr/local/lib/python3.5/dist-packages/ipykernel_launcher.py:15: DeprecationWarning: \n",
      ".ix is deprecated. Please use\n",
      ".loc for label based indexing or\n",
      ".iloc for positional indexing\n",
      "\n",
      "See the documentation here:\n",
      "http://pandas.pydata.org/pandas-docs/stable/indexing.html#ix-indexer-is-deprecated\n",
      "  from ipykernel import kernelapp as app\n"
     ]
    },
    {
     "name": "stdout",
     "output_type": "stream",
     "text": [
      "\n"
     ]
    }
   ],
   "source": [
    "# additional prepare data\n",
    "unique = np.unique(X_0[['r1_hero','r2_hero','r3_hero','r4_hero','r5_hero','d1_hero','d2_hero','d3_hero','d4_hero','d5_hero']].values) # unique users\n",
    "#print(len(pd.value_counts(X_0['rXXX_hero']))) # different types\n",
    "X_1 = X_0.drop(['lobby_type','r1_hero','r2_hero','r3_hero','r4_hero','r5_hero','d1_hero','d2_hero','d3_hero','d4_hero','d5_hero'], axis=1)\n",
    "#X_1 = X_0.drop(['lobby_type'], axis=1)\n",
    "scaler = StandardScaler()\n",
    "X_2 = pd.DataFrame(scaler.fit_transform(X_1), index=X_1.index, columns=X_1.columns) # convert there and back\n",
    "\n",
    "# N — количество различных героев в выборке\n",
    "N = 113\n",
    "X_pick = np.zeros((X_0.shape[0], N))\n",
    "for i, match_id in tqdm_notebook(enumerate(X_0.index)):\n",
    "    for p in range(5):\n",
    "        X_pick[i, X_0.ix[match_id, 'r%d_hero' % (p+1)]-1] = 1\n",
    "        X_pick[i, X_0.ix[match_id, 'd%d_hero' % (p+1)]-1] = -1\n",
    "\n",
    "X_p = pd.DataFrame(X_pick, index=X_1.index)\n",
    "X_0 = pd.concat([X_2, X_p], axis=1, join_axes=[X_2.index]) # add to DataFrame\n",
    "#display(X_0)"
   ]
  },
  {
   "cell_type": "code",
   "execution_count": null,
   "metadata": {},
   "outputs": [],
   "source": [
    "# calculate for different number trees\n",
    "n_ras = [] # array values auc-roc per n_trees\n",
    "start_time = datetime.datetime.now() # fstart calculate time\n",
    "for n_trees in tqdm_notebook(np.arange(10,100,10)):\n",
    "    gbc = GradientBoostingClassifier(n_estimators=n_trees, max_depth=1)\n",
    "    kf = KFold(n_splits=5, shuffle=True)\n",
    "    ras = [] # array values auc-roc into KFold\n",
    "    for train_index, test_index in tqdm_notebook(kf.split(X_0)):\n",
    "        X_train, X_test = X_0.values[train_index], X_0.values[test_index]\n",
    "        y_train, y_test = y_0.values[train_index], y_0.values[test_index]\n",
    "        gbc.fit(X_train, y_train)\n",
    "        y_scores = gbc.predict_proba(X_test)[:, 1]\n",
    "        ras.append(roc_auc_score(y_test, y_scores, average='samples'))\n",
    "    n_ras.append(np.mean(ras))\n",
    "print('Time elapsed:', datetime.datetime.now() - start_time) # stop calculate time    \n",
    "print(n_ras)\n",
    "plt.title('array values auc-roc per n_trees', color='yellow')\n",
    "plt.rc('axes',edgecolor='yellow')\n",
    "plt.rcParams['xtick.color'] = 'yellow'\n",
    "plt.rcParams['ytick.color'] = 'yellow'\n",
    "plt.plot(np.arange(10,100,10),n_ras) # for line\n",
    "plt.legend(['auc-roc'], loc='upper left')\n",
    "plt.grid(True)"
   ]
  },
  {
   "cell_type": "code",
   "execution_count": null,
   "metadata": {},
   "outputs": [],
   "source": [
    "# calculate time for 30 trees\n",
    "start_time = datetime.datetime.now() # fstart calculate time\n",
    "gbc = GradientBoostingClassifier(n_estimators=30)\n",
    "kf = KFold(n_splits=5, shuffle=True)\n",
    "ras = [] # array values auc-roc into KFold\n",
    "for train_index, test_index in tqdm_notebook(kf.split(X_0)):\n",
    "    X_train, X_test = X_0.values[train_index], X_0.values[test_index]\n",
    "    y_train, y_test = y_0.values[train_index], y_0.values[test_index]\n",
    "    gbc.fit(X_train, y_train)\n",
    "    y_scores = gbc.predict_proba(X_test)[:, 1]\n",
    "    ras.append(roc_auc_score(y_test, y_scores, average='samples'))\n",
    "print('Time elapsed for 30 trees:', datetime.datetime.now() - start_time) # stop calculate time    \n",
    "print('Score AUC-ROC: ', np.mean(ras))\n"
   ]
  },
  {
   "cell_type": "code",
   "execution_count": null,
   "metadata": {},
   "outputs": [],
   "source": [
    "Отчёт_1:\n",
    "1. пропуски имеют следующие признаки: 'first_blood_time', 'first_blood_team', 'first_blood_player1', 'first_blood_player2', 'radiant_bottle_time', 'radiant_courier_time', 'radiant_flying_courier_time', 'radiant_first_ward_time', 'dire_bottle_time', 'dire_courier_time', 'dire_flying_courier_time', 'dire_first_ward_time'.\n",
    "(?)Я хз, что они могут означать...\n",
    "2. Целевую переменную содержит столбец 'radiant_win'\n",
    "3. Time elapsed for 30 trees: 0:01:23.987412 ; Score AUC-ROC:  0.6893316710163322 (взята полная выборка объектов)\n",
    "4. Если применять градиентный бустинг к данной задаче, то при увеличении числа деревьев качество всё время повышается \n",
    "(в цикле от 10 до 90 деревьев оптимум не достигнут). Делать больше, чем 30 деревьев смысл есть, и для ускорения работы\n",
    "алгоритма можно попробовать понизить размерность матрицы признаков, упростить модель, брать лишь часть объектов \n",
    "для обучения. Для данного анализа была случайно отобрана треть выборки, длительность расчёта - 'Time elapsed: 0:05:31.306915'"
   ]
  },
  {
   "cell_type": "code",
   "execution_count": null,
   "metadata": {},
   "outputs": [],
   "source": [
    "# 2 stage"
   ]
  },
  {
   "cell_type": "code",
   "execution_count": 9,
   "metadata": {},
   "outputs": [
    {
     "data": {
      "application/vnd.jupyter.widget-view+json": {
       "model_id": "03dc25bbaa144f42ae0afdc1e6fcebfa",
       "version_major": 2,
       "version_minor": 0
      },
      "text/plain": [
       "HBox(children=(IntProgress(value=1, bar_style='info', max=1), HTML(value='')))"
      ]
     },
     "metadata": {},
     "output_type": "display_data"
    },
    {
     "name": "stdout",
     "output_type": "stream",
     "text": [
      "\n",
      "Time elapsed for 30 trees: 0:00:16.596656\n",
      "Score AUC-ROC:  0.7461863913536433\n"
     ]
    }
   ],
   "source": [
    "# Logistic Regression (without change paramrter C)\n",
    "logreg = LogisticRegression(penalty='l2', C=1e3, solver='liblinear')\n",
    "start_time = datetime.datetime.now() # fstart calculate time\n",
    "kf = KFold(n_splits=5, shuffle=True)\n",
    "ras = [] # array values auc-roc into KFold\n",
    "for train_index, test_index in tqdm_notebook(kf.split(X_0)):\n",
    "    X_train, X_test = X_0.values[train_index], X_0.values[test_index]\n",
    "    y_train, y_test = y_0.values[train_index], y_0.values[test_index]\n",
    "    logreg.fit(X_train, y_train)\n",
    "    y_scores = logreg.predict_proba(X_test)[:, 1]\n",
    "    ras.append(roc_auc_score(y_test, y_scores, average='samples'))\n",
    "print('Time elapsed for 30 trees:', datetime.datetime.now() - start_time) # stop calculate time    \n",
    "print('Score AUC-ROC: ', np.mean(ras))"
   ]
  },
  {
   "cell_type": "code",
   "execution_count": null,
   "metadata": {},
   "outputs": [
    {
     "data": {
      "application/vnd.jupyter.widget-view+json": {
       "model_id": "aa8b6a903ebb475f9f152d84bcfe8b6f",
       "version_major": 2,
       "version_minor": 0
      },
      "text/plain": [
       "HBox(children=(IntProgress(value=0, max=1000), HTML(value='')))"
      ]
     },
     "metadata": {},
     "output_type": "display_data"
    }
   ],
   "source": [
    "# Logistic Regression (with change parameter C)\n",
    "n_ras = [] # array values auc-roc per param\n",
    "start_time = datetime.datetime.now() # fstart calculate time\n",
    "start_par = 1\n",
    "stop_par = 1e5\n",
    "step_par = 1e2\n",
    "for param in tqdm_notebook(np.arange(start_par,stop_par,step_par)):\n",
    "    logreg = LogisticRegression(penalty='l2', C=param, solver='liblinear')\n",
    "    kf = KFold(n_splits=5, shuffle=True)\n",
    "    ras = [] # array values auc-roc into KFold\n",
    "    for train_index, test_index in kf.split(X_0):\n",
    "        X_train, X_test = X_0.values[train_index], X_0.values[test_index]\n",
    "        y_train, y_test = y_0.values[train_index], y_0.values[test_index]\n",
    "        logreg.fit(X_train, y_train)\n",
    "        y_scores = logreg.predict_proba(X_test)[:, 1]\n",
    "        ras.append(roc_auc_score(y_test, y_scores, average='samples'))\n",
    "    n_ras.append(np.mean(ras))\n",
    "print('Time elapsed:', datetime.datetime.now() - start_time) # stop calculate time    \n",
    "#print(n_ras)\n",
    "plt.title('array values auc-roc per param', color='yellow')\n",
    "plt.rc('axes',edgecolor='yellow')\n",
    "plt.rcParams['xtick.color'] = 'yellow'\n",
    "plt.rcParams['ytick.color'] = 'yellow'\n",
    "plt.plot(np.arange(start_par,stop_par,step_par),n_ras) # for line\n",
    "plt.legend(['auc-roc'], loc='upper left')\n",
    "plt.grid(True)"
   ]
  },
  {
   "cell_type": "code",
   "execution_count": 13,
   "metadata": {},
   "outputs": [],
   "source": [
    "n_ras_1 = n_ras"
   ]
  },
  {
   "cell_type": "code",
   "execution_count": 11,
   "metadata": {},
   "outputs": [
    {
     "data": {
      "image/png": "[encoded data removed]",
      "text/plain": [
       "<Figure size 432x288 with 1 Axes>"
      ]
     },
     "metadata": {
      "needs_background": "dark"
     },
     "output_type": "display_data"
    }
   ],
   "source": [
    "plt.title('array values auc-roc per param', color='yellow')\n",
    "plt.rc('axes',edgecolor='yellow')\n",
    "plt.rcParams['xtick.color'] = 'yellow'\n",
    "plt.rcParams['ytick.color'] = 'yellow'\n",
    "plt.plot(np.arange(start_par,stop_par,step_par),n_ras) # for line\n",
    "plt.legend(['auc-roc'], loc='upper left')\n",
    "plt.grid(True)"
   ]
  },
  {
   "cell_type": "code",
   "execution_count": null,
   "metadata": {},
   "outputs": [],
   "source": [
    "Отчёт_2:"
   ]
  },
  {
   "cell_type": "code",
   "execution_count": null,
   "metadata": {},
   "outputs": [],
   "source": []
  }
 ],
 "metadata": {
  "kernelspec": {
   "display_name": "py36ml",
   "language": "python",
   "name": "py36ml"
  },
  "language_info": {
   "codemirror_mode": {
    "name": "ipython",
    "version": 3
   },
   "file_extension": ".py",
   "mimetype": "text/x-python",
   "name": "python",
   "nbconvert_exporter": "python",
   "pygments_lexer": "ipython3",
   "version": "3.5.2"
  },
  "varInspector": {
   "cols": {
    "lenName": 16,
    "lenType": 16,
    "lenVar": 40
   },
   "kernels_config": {
    "python": {
     "delete_cmd_postfix": "",
     "delete_cmd_prefix": "del ",
     "library": "var_list.py",
     "varRefreshCmd": "print(var_dic_list())"
    },
    "r": {
     "delete_cmd_postfix": ") ",
     "delete_cmd_prefix": "rm(",
     "library": "var_list.r",
     "varRefreshCmd": "cat(var_dic_list()) "
    }
   },
   "position": {
    "height": "252.8px",
    "left": "1185.6px",
    "right": "20px",
    "top": "120px",
    "width": "331.8px"
   },
   "types_to_exclude": [
    "module",
    "function",
    "builtin_function_or_method",
    "instance",
    "_Feature"
   ],
   "window_display": false
  }
 },
 "nbformat": 4,
 "nbformat_minor": 2
}
